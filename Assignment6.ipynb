{
 "cells": [
  {
   "cell_type": "code",
   "execution_count": 16,
   "id": "0fac3384",
   "metadata": {},
   "outputs": [],
   "source": [
    "#################################################\n",
    "### Assignment 6                              ###\n",
    "### Dvir David Iluz                           ###\n",
    "### 311447668                                 ###\n",
    "#################################################"
   ]
  },
  {
   "cell_type": "markdown",
   "id": "3a7d469e",
   "metadata": {},
   "source": [
    "### Importing Libraries"
   ]
  },
  {
   "cell_type": "code",
   "execution_count": 17,
   "id": "0248c27a",
   "metadata": {},
   "outputs": [],
   "source": [
    "import matplotlib.pyplot as plt\n",
    "import pandas as pd"
   ]
  },
  {
   "cell_type": "markdown",
   "id": "bb615a3a",
   "metadata": {},
   "source": [
    "### Read data"
   ]
  },
  {
   "cell_type": "code",
   "execution_count": 18,
   "id": "1de242a2",
   "metadata": {},
   "outputs": [],
   "source": [
    "df = pd.read_csv(\"LP_destinations.csv\")\n",
    "df.drop('Unnamed: 0', inplace=True, axis=1)"
   ]
  },
  {
   "cell_type": "markdown",
   "id": "720c30d2",
   "metadata": {},
   "source": [
    "### Adding Columns(num of words, no_punct, has_restaurants/museums/beaches)"
   ]
  },
  {
   "cell_type": "code",
   "execution_count": 19,
   "id": "6c688233",
   "metadata": {},
   "outputs": [],
   "source": [
    "df['num_of_words'] = df.Description.str.split().str.len()\n",
    "df['No_punct_description'] = df.Description.str.replace(r'[^\\w\\s]+', '',regex=True)\n",
    "df['has_restaurants'] = df.Description.str.count(\"restaurant\")\n",
    "df['has_museums'] = df.Description.str.count(\"museum\")\n",
    "df['has_beaches'] = df.Description.str.count(\"ocean\") + df.Description.str.count('sea') + df.Description.str.count(\"beach\")"
   ]
  },
  {
   "cell_type": "markdown",
   "id": "61173867",
   "metadata": {},
   "source": [
    "### Dataframe after changes"
   ]
  },
  {
   "cell_type": "code",
   "execution_count": 20,
   "id": "bd07ecd1",
   "metadata": {},
   "outputs": [],
   "source": [
    "lp_new = pd.DataFrame(df)\n",
    "lp_new.to_csv('lp_new.csv')"
   ]
  },
  {
   "cell_type": "code",
   "execution_count": 21,
   "id": "e2b2e2c4",
   "metadata": {},
   "outputs": [
    {
     "data": {
      "text/html": [
       "<div>\n",
       "<style scoped>\n",
       "    .dataframe tbody tr th:only-of-type {\n",
       "        vertical-align: middle;\n",
       "    }\n",
       "\n",
       "    .dataframe tbody tr th {\n",
       "        vertical-align: top;\n",
       "    }\n",
       "\n",
       "    .dataframe thead th {\n",
       "        text-align: right;\n",
       "    }\n",
       "</style>\n",
       "<table border=\"1\" class=\"dataframe\">\n",
       "  <thead>\n",
       "    <tr style=\"text-align: right;\">\n",
       "      <th></th>\n",
       "      <th>City</th>\n",
       "      <th>Country</th>\n",
       "      <th>Description</th>\n",
       "      <th>num_of_words</th>\n",
       "      <th>No_punct_description</th>\n",
       "      <th>has_restaurants</th>\n",
       "      <th>has_museums</th>\n",
       "      <th>has_beaches</th>\n",
       "    </tr>\n",
       "  </thead>\n",
       "  <tbody>\n",
       "    <tr>\n",
       "      <th>0</th>\n",
       "      <td>Antalya</td>\n",
       "      <td>Turkey</td>\n",
       "      <td>Once seen simply as the gateway to the Turkish...</td>\n",
       "      <td>112</td>\n",
       "      <td>Once seen simply as the gateway to the Turkish...</td>\n",
       "      <td>0</td>\n",
       "      <td>1</td>\n",
       "      <td>1</td>\n",
       "    </tr>\n",
       "    <tr>\n",
       "      <th>1</th>\n",
       "      <td>Athens</td>\n",
       "      <td>Greece</td>\n",
       "      <td>With equal measures of grunge and grace, Athen...</td>\n",
       "      <td>393</td>\n",
       "      <td>With equal measures of grunge and grace Athens...</td>\n",
       "      <td>1</td>\n",
       "      <td>0</td>\n",
       "      <td>2</td>\n",
       "    </tr>\n",
       "    <tr>\n",
       "      <th>2</th>\n",
       "      <td>Ayia-napa</td>\n",
       "      <td>Cyprus</td>\n",
       "      <td>Endless blue-sky days and a coastline riddled ...</td>\n",
       "      <td>147</td>\n",
       "      <td>Endless bluesky days and a coastline riddled w...</td>\n",
       "      <td>0</td>\n",
       "      <td>0</td>\n",
       "      <td>2</td>\n",
       "    </tr>\n",
       "    <tr>\n",
       "      <th>3</th>\n",
       "      <td>Bangkok</td>\n",
       "      <td>Thailand</td>\n",
       "      <td>Same same, but different. This Thailish T-shir...</td>\n",
       "      <td>398</td>\n",
       "      <td>Same same but different This Thailish Tshirt p...</td>\n",
       "      <td>1</td>\n",
       "      <td>0</td>\n",
       "      <td>0</td>\n",
       "    </tr>\n",
       "    <tr>\n",
       "      <th>4</th>\n",
       "      <td>Barcelona</td>\n",
       "      <td>Spain</td>\n",
       "      <td>Barcelona is an enchanting seaside city with b...</td>\n",
       "      <td>427</td>\n",
       "      <td>Barcelona is an enchanting seaside city with b...</td>\n",
       "      <td>1</td>\n",
       "      <td>2</td>\n",
       "      <td>7</td>\n",
       "    </tr>\n",
       "    <tr>\n",
       "      <th>...</th>\n",
       "      <td>...</td>\n",
       "      <td>...</td>\n",
       "      <td>...</td>\n",
       "      <td>...</td>\n",
       "      <td>...</td>\n",
       "      <td>...</td>\n",
       "      <td>...</td>\n",
       "      <td>...</td>\n",
       "    </tr>\n",
       "    <tr>\n",
       "      <th>72</th>\n",
       "      <td>Venice</td>\n",
       "      <td>Italy</td>\n",
       "      <td>Imagine the audacity of building a city of mar...</td>\n",
       "      <td>420</td>\n",
       "      <td>Imagine the audacity of building a city of mar...</td>\n",
       "      <td>0</td>\n",
       "      <td>0</td>\n",
       "      <td>2</td>\n",
       "    </tr>\n",
       "    <tr>\n",
       "      <th>73</th>\n",
       "      <td>Vienna</td>\n",
       "      <td>Austria</td>\n",
       "      <td>Baroque streetscapes and imperial palaces set ...</td>\n",
       "      <td>418</td>\n",
       "      <td>Baroque streetscapes and imperial palaces set ...</td>\n",
       "      <td>1</td>\n",
       "      <td>3</td>\n",
       "      <td>0</td>\n",
       "    </tr>\n",
       "    <tr>\n",
       "      <th>74</th>\n",
       "      <td>Warsaw</td>\n",
       "      <td>Poland</td>\n",
       "      <td>A phoenix arisen from the ashes, Poland's capi...</td>\n",
       "      <td>406</td>\n",
       "      <td>A phoenix arisen from the ashes Polands capita...</td>\n",
       "      <td>1</td>\n",
       "      <td>2</td>\n",
       "      <td>1</td>\n",
       "    </tr>\n",
       "    <tr>\n",
       "      <th>75</th>\n",
       "      <td>Zakynthos</td>\n",
       "      <td>Greece</td>\n",
       "      <td>Zakynthos, also known by its Italian name Zant...</td>\n",
       "      <td>118</td>\n",
       "      <td>Zakynthos also known by its Italian name Zante...</td>\n",
       "      <td>0</td>\n",
       "      <td>0</td>\n",
       "      <td>0</td>\n",
       "    </tr>\n",
       "    <tr>\n",
       "      <th>76</th>\n",
       "      <td>Zurich</td>\n",
       "      <td>Switzerland</td>\n",
       "      <td>Culturally vibrant, efficiently run and attrac...</td>\n",
       "      <td>119</td>\n",
       "      <td>Culturally vibrant efficiently run and attract...</td>\n",
       "      <td>0</td>\n",
       "      <td>0</td>\n",
       "      <td>0</td>\n",
       "    </tr>\n",
       "  </tbody>\n",
       "</table>\n",
       "<p>77 rows × 8 columns</p>\n",
       "</div>"
      ],
      "text/plain": [
       "         City      Country                                        Description  \\\n",
       "0     Antalya       Turkey  Once seen simply as the gateway to the Turkish...   \n",
       "1      Athens       Greece  With equal measures of grunge and grace, Athen...   \n",
       "2   Ayia-napa       Cyprus  Endless blue-sky days and a coastline riddled ...   \n",
       "3     Bangkok     Thailand  Same same, but different. This Thailish T-shir...   \n",
       "4   Barcelona        Spain  Barcelona is an enchanting seaside city with b...   \n",
       "..        ...          ...                                                ...   \n",
       "72     Venice        Italy  Imagine the audacity of building a city of mar...   \n",
       "73     Vienna      Austria  Baroque streetscapes and imperial palaces set ...   \n",
       "74     Warsaw       Poland  A phoenix arisen from the ashes, Poland's capi...   \n",
       "75  Zakynthos       Greece  Zakynthos, also known by its Italian name Zant...   \n",
       "76     Zurich  Switzerland  Culturally vibrant, efficiently run and attrac...   \n",
       "\n",
       "    num_of_words                               No_punct_description  \\\n",
       "0            112  Once seen simply as the gateway to the Turkish...   \n",
       "1            393  With equal measures of grunge and grace Athens...   \n",
       "2            147  Endless bluesky days and a coastline riddled w...   \n",
       "3            398  Same same but different This Thailish Tshirt p...   \n",
       "4            427  Barcelona is an enchanting seaside city with b...   \n",
       "..           ...                                                ...   \n",
       "72           420  Imagine the audacity of building a city of mar...   \n",
       "73           418  Baroque streetscapes and imperial palaces set ...   \n",
       "74           406  A phoenix arisen from the ashes Polands capita...   \n",
       "75           118  Zakynthos also known by its Italian name Zante...   \n",
       "76           119  Culturally vibrant efficiently run and attract...   \n",
       "\n",
       "    has_restaurants  has_museums  has_beaches  \n",
       "0                 0            1            1  \n",
       "1                 1            0            2  \n",
       "2                 0            0            2  \n",
       "3                 1            0            0  \n",
       "4                 1            2            7  \n",
       "..              ...          ...          ...  \n",
       "72                0            0            2  \n",
       "73                1            3            0  \n",
       "74                1            2            1  \n",
       "75                0            0            0  \n",
       "76                0            0            0  \n",
       "\n",
       "[77 rows x 8 columns]"
      ]
     },
     "execution_count": 21,
     "metadata": {},
     "output_type": "execute_result"
    }
   ],
   "source": [
    "lp_new"
   ]
  },
  {
   "cell_type": "markdown",
   "id": "51bee91d",
   "metadata": {},
   "source": [
    "### Calcuate mean of num_of_words"
   ]
  },
  {
   "cell_type": "code",
   "execution_count": 22,
   "id": "8a7beba7",
   "metadata": {},
   "outputs": [
    {
     "data": {
      "text/plain": [
       "271.8051948051948"
      ]
     },
     "execution_count": 22,
     "metadata": {},
     "output_type": "execute_result"
    }
   ],
   "source": [
    "df.num_of_words.mean()"
   ]
  },
  {
   "cell_type": "markdown",
   "id": "1408b4df",
   "metadata": {},
   "source": [
    "### Find the city with the max value of num_of_words"
   ]
  },
  {
   "cell_type": "code",
   "execution_count": 23,
   "id": "e6b6c5d9",
   "metadata": {},
   "outputs": [
    {
     "data": {
      "text/plain": [
       "('Florence', 526)"
      ]
     },
     "execution_count": 23,
     "metadata": {},
     "output_type": "execute_result"
    }
   ],
   "source": [
    "df.City[df['num_of_words'].idxmax()], df.num_of_words.max()"
   ]
  },
  {
   "cell_type": "markdown",
   "id": "6bd7fcc5",
   "metadata": {},
   "source": [
    "### histogram for num_of_words"
   ]
  },
  {
   "cell_type": "code",
   "execution_count": 24,
   "id": "575d8935",
   "metadata": {},
   "outputs": [
    {
     "data": {
      "image/png": "[encoded data removed]",
      "text/plain": [
       "<Figure size 432x288 with 1 Axes>"
      ]
     },
     "metadata": {
      "needs_background": "light"
     },
     "output_type": "display_data"
    }
   ],
   "source": [
    "plt.hist(df.num_of_words, bins=len(df),color='g')\n",
    "plt.xlabel('Number of words')\n",
    "plt.ylabel('Frequency')\n",
    "plt.show()"
   ]
  },
  {
   "cell_type": "markdown",
   "id": "6f9c1153",
   "metadata": {},
   "source": [
    "### Scatter plot for beachs and restaurants"
   ]
  },
  {
   "cell_type": "code",
   "execution_count": 25,
   "id": "145ef532",
   "metadata": {},
   "outputs": [
    {
     "data": {
      "image/png": "[encoded data removed]",
      "text/plain": [
       "<Figure size 432x288 with 1 Axes>"
      ]
     },
     "metadata": {
      "needs_background": "light"
     },
     "output_type": "display_data"
    }
   ],
   "source": [
    "plt.scatter(df.has_beaches, df.has_restaurants, color = 'darkblue')\n",
    "plt.xlabel('Beaches')\n",
    "plt.ylabel('Restaurants')\n",
    "plt.show()"
   ]
  },
  {
   "cell_type": "markdown",
   "id": "dfe339e9",
   "metadata": {},
   "source": [
    "### Scatter plot for museums and beaches"
   ]
  },
  {
   "cell_type": "code",
   "execution_count": 26,
   "id": "72cbcd92",
   "metadata": {},
   "outputs": [
    {
     "data": {
      "image/png": "[encoded data removed]",
      "text/plain": [
       "<Figure size 432x288 with 1 Axes>"
      ]
     },
     "metadata": {
      "needs_background": "light"
     },
     "output_type": "display_data"
    }
   ],
   "source": [
    "plt.scatter(df.has_museums, df.has_beaches, color = 'darkred')\n",
    "plt.xlabel('Museums')\n",
    "plt.ylabel('Beaches')\n",
    "plt.show()"
   ]
  },
  {
   "cell_type": "code",
   "execution_count": null,
   "id": "f44b0beb",
   "metadata": {},
   "outputs": [],
   "source": []
  }
 ],
 "metadata": {
  "kernelspec": {
   "display_name": "Python 3 (ipykernel)",
   "language": "python",
   "name": "python3"
  },
  "language_info": {
   "codemirror_mode": {
    "name": "ipython",
    "version": 3
   },
   "file_extension": ".py",
   "mimetype": "text/x-python",
   "name": "python",
   "nbconvert_exporter": "python",
   "pygments_lexer": "ipython3",
   "version": "3.9.7"
  }
 },
 "nbformat": 4,
 "nbformat_minor": 5
}
